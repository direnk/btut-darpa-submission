Convergence plots of p_t

Scaling vs runtime graphs (nodes vs. execution time)

Heatmap comparisons across PD/HD/SH types

from IPython.display import Image
Image("docs/img/convergence.png")
